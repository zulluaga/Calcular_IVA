{
 "cells": [
  {
   "cell_type": "code",
   "execution_count": 7,
   "metadata": {},
   "outputs": [
    {
     "name": "stdout",
     "output_type": "stream",
     "text": [
      "El valor de la compra sin IVA es de:  1000.0\n",
      "El valor a pagar en total (IVA incluido) es de: 1190.0\n"
     ]
    }
   ],
   "source": [
    "def calcularIVA(p):\n",
    "    IVA = p * 0.19\n",
    "    return IVA\n",
    "\n",
    "precioCompra = float(input(\"Ingrese el valor de la compra: \"))\n",
    "\n",
    "IVA = calcularIVA(precioCompra)\n",
    "print(\"El valor de la compra sin IVA es de: \", precioCompra)\n",
    "print(\"El valor a pagar en total (IVA incluido) es de:\", (precioCompra+IVA))"
   ]
  }
 ],
 "metadata": {
  "kernelspec": {
   "display_name": "Python 3",
   "language": "python",
   "name": "python3"
  },
  "language_info": {
   "codemirror_mode": {
    "name": "ipython",
    "version": 3
   },
   "file_extension": ".py",
   "mimetype": "text/x-python",
   "name": "python",
   "nbconvert_exporter": "python",
   "pygments_lexer": "ipython3",
   "version": "3.10.8"
  },
  "orig_nbformat": 4,
  "vscode": {
   "interpreter": {
    "hash": "1464948e9d8a8ba03cc52a1d95e5d437f03a322fc2fe38ff62aee03640f8ed2f"
   }
  }
 },
 "nbformat": 4,
 "nbformat_minor": 2
}
